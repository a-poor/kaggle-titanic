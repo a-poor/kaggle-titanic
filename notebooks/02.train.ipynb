{
 "cells": [
  {
   "cell_type": "markdown",
   "metadata": {},
   "source": [
    "# Kaggle Titanic Dataset Challenge – Train\n",
    "\n",
    "_created by Austin Poor_"
   ]
  },
  {
   "cell_type": "code",
   "execution_count": 1,
   "metadata": {},
   "outputs": [],
   "source": [
    "import numpy as np\n",
    "import pandas as pd\n",
    "import matplotlib.pyplot as plt\n",
    "%matplotlib inline\n",
    "import seaborn as sns\n",
    "sns.set()"
   ]
  },
  {
   "cell_type": "code",
   "execution_count": 2,
   "metadata": {},
   "outputs": [
    {
     "data": {
      "text/plain": [
       "[PosixPath('../data/test.csv'),\n",
       " PosixPath('../data/train.csv'),\n",
       " PosixPath('../data/.ipynb_checkpoints'),\n",
       " PosixPath('../data/gender_submission.csv'),\n",
       " PosixPath('../data/.gitinclude')]"
      ]
     },
     "execution_count": 2,
     "metadata": {},
     "output_type": "execute_result"
    }
   ],
   "source": [
    "import sys\n",
    "from pathlib import Path\n",
    "\n",
    "WORK_DIR = Path(\"..\")\n",
    "SCRIPT_DIR = WORK_DIR / \"scripts\"\n",
    "DATA_DIR = WORK_DIR / \"data\"\n",
    "MODEL_DIR = WORK_DIR / \"models\"\n",
    "\n",
    "# Add the script directory to python's path\n",
    "# so I can import code from `scripts/`\n",
    "sys.path.append(str(SCRIPT_DIR.resolve()))\n",
    "\n",
    "list(DATA_DIR.glob(\"*\"))"
   ]
  },
  {
   "cell_type": "code",
   "execution_count": 3,
   "metadata": {},
   "outputs": [],
   "source": [
    "import preprocess"
   ]
  },
  {
   "cell_type": "code",
   "execution_count": 4,
   "metadata": {},
   "outputs": [
    {
     "data": {
      "text/html": [
       "<div>\n",
       "<style scoped>\n",
       "    .dataframe tbody tr th:only-of-type {\n",
       "        vertical-align: middle;\n",
       "    }\n",
       "\n",
       "    .dataframe tbody tr th {\n",
       "        vertical-align: top;\n",
       "    }\n",
       "\n",
       "    .dataframe thead th {\n",
       "        text-align: right;\n",
       "    }\n",
       "</style>\n",
       "<table border=\"1\" class=\"dataframe\">\n",
       "  <thead>\n",
       "    <tr style=\"text-align: right;\">\n",
       "      <th></th>\n",
       "      <th>Survived</th>\n",
       "      <th>Pclass</th>\n",
       "      <th>Age</th>\n",
       "      <th>SibSp</th>\n",
       "      <th>Parch</th>\n",
       "      <th>Fare</th>\n",
       "      <th>IsCabinNA</th>\n",
       "      <th>IsAgeNA</th>\n",
       "      <th>Sex_male</th>\n",
       "      <th>Embarked_Q</th>\n",
       "      <th>...</th>\n",
       "      <th>CabinGroup_D</th>\n",
       "      <th>CabinGroup_E</th>\n",
       "      <th>CabinGroup_F</th>\n",
       "      <th>CabinGroup_G</th>\n",
       "      <th>CabinGroup_T</th>\n",
       "      <th>TicketBase_0</th>\n",
       "      <th>TicketBase_1</th>\n",
       "      <th>TicketBase_2</th>\n",
       "      <th>TicketBase_3</th>\n",
       "      <th>TicketBase_4</th>\n",
       "    </tr>\n",
       "  </thead>\n",
       "  <tbody>\n",
       "    <tr>\n",
       "      <th>0</th>\n",
       "      <td>0</td>\n",
       "      <td>3</td>\n",
       "      <td>22.0</td>\n",
       "      <td>1</td>\n",
       "      <td>0</td>\n",
       "      <td>7.2500</td>\n",
       "      <td>True</td>\n",
       "      <td>False</td>\n",
       "      <td>1</td>\n",
       "      <td>0</td>\n",
       "      <td>...</td>\n",
       "      <td>0</td>\n",
       "      <td>0</td>\n",
       "      <td>0</td>\n",
       "      <td>0</td>\n",
       "      <td>0</td>\n",
       "      <td>0</td>\n",
       "      <td>0</td>\n",
       "      <td>0</td>\n",
       "      <td>1</td>\n",
       "      <td>0</td>\n",
       "    </tr>\n",
       "    <tr>\n",
       "      <th>1</th>\n",
       "      <td>1</td>\n",
       "      <td>1</td>\n",
       "      <td>38.0</td>\n",
       "      <td>1</td>\n",
       "      <td>0</td>\n",
       "      <td>71.2833</td>\n",
       "      <td>False</td>\n",
       "      <td>False</td>\n",
       "      <td>0</td>\n",
       "      <td>0</td>\n",
       "      <td>...</td>\n",
       "      <td>0</td>\n",
       "      <td>0</td>\n",
       "      <td>0</td>\n",
       "      <td>0</td>\n",
       "      <td>0</td>\n",
       "      <td>0</td>\n",
       "      <td>1</td>\n",
       "      <td>0</td>\n",
       "      <td>0</td>\n",
       "      <td>0</td>\n",
       "    </tr>\n",
       "    <tr>\n",
       "      <th>2</th>\n",
       "      <td>1</td>\n",
       "      <td>3</td>\n",
       "      <td>26.0</td>\n",
       "      <td>0</td>\n",
       "      <td>0</td>\n",
       "      <td>7.9250</td>\n",
       "      <td>True</td>\n",
       "      <td>False</td>\n",
       "      <td>0</td>\n",
       "      <td>0</td>\n",
       "      <td>...</td>\n",
       "      <td>0</td>\n",
       "      <td>0</td>\n",
       "      <td>0</td>\n",
       "      <td>0</td>\n",
       "      <td>0</td>\n",
       "      <td>0</td>\n",
       "      <td>0</td>\n",
       "      <td>0</td>\n",
       "      <td>0</td>\n",
       "      <td>1</td>\n",
       "    </tr>\n",
       "    <tr>\n",
       "      <th>3</th>\n",
       "      <td>1</td>\n",
       "      <td>1</td>\n",
       "      <td>35.0</td>\n",
       "      <td>1</td>\n",
       "      <td>0</td>\n",
       "      <td>53.1000</td>\n",
       "      <td>False</td>\n",
       "      <td>False</td>\n",
       "      <td>0</td>\n",
       "      <td>0</td>\n",
       "      <td>...</td>\n",
       "      <td>0</td>\n",
       "      <td>0</td>\n",
       "      <td>0</td>\n",
       "      <td>0</td>\n",
       "      <td>0</td>\n",
       "      <td>1</td>\n",
       "      <td>0</td>\n",
       "      <td>0</td>\n",
       "      <td>0</td>\n",
       "      <td>0</td>\n",
       "    </tr>\n",
       "    <tr>\n",
       "      <th>4</th>\n",
       "      <td>0</td>\n",
       "      <td>3</td>\n",
       "      <td>35.0</td>\n",
       "      <td>0</td>\n",
       "      <td>0</td>\n",
       "      <td>8.0500</td>\n",
       "      <td>True</td>\n",
       "      <td>False</td>\n",
       "      <td>1</td>\n",
       "      <td>0</td>\n",
       "      <td>...</td>\n",
       "      <td>0</td>\n",
       "      <td>0</td>\n",
       "      <td>0</td>\n",
       "      <td>0</td>\n",
       "      <td>0</td>\n",
       "      <td>1</td>\n",
       "      <td>0</td>\n",
       "      <td>0</td>\n",
       "      <td>0</td>\n",
       "      <td>0</td>\n",
       "    </tr>\n",
       "  </tbody>\n",
       "</table>\n",
       "<p>5 rows × 23 columns</p>\n",
       "</div>"
      ],
      "text/plain": [
       "   Survived  Pclass   Age  SibSp  Parch     Fare  IsCabinNA  IsAgeNA  \\\n",
       "0         0       3  22.0      1      0   7.2500       True    False   \n",
       "1         1       1  38.0      1      0  71.2833      False    False   \n",
       "2         1       3  26.0      0      0   7.9250       True    False   \n",
       "3         1       1  35.0      1      0  53.1000      False    False   \n",
       "4         0       3  35.0      0      0   8.0500       True    False   \n",
       "\n",
       "   Sex_male  Embarked_Q  ...  CabinGroup_D  CabinGroup_E  CabinGroup_F  \\\n",
       "0         1           0  ...             0             0             0   \n",
       "1         0           0  ...             0             0             0   \n",
       "2         0           0  ...             0             0             0   \n",
       "3         0           0  ...             0             0             0   \n",
       "4         1           0  ...             0             0             0   \n",
       "\n",
       "   CabinGroup_G  CabinGroup_T  TicketBase_0  TicketBase_1  TicketBase_2  \\\n",
       "0             0             0             0             0             0   \n",
       "1             0             0             0             1             0   \n",
       "2             0             0             0             0             0   \n",
       "3             0             0             1             0             0   \n",
       "4             0             0             1             0             0   \n",
       "\n",
       "   TicketBase_3  TicketBase_4  \n",
       "0             1             0  \n",
       "1             0             0  \n",
       "2             0             1  \n",
       "3             0             0  \n",
       "4             0             0  \n",
       "\n",
       "[5 rows x 23 columns]"
      ]
     },
     "execution_count": 4,
     "metadata": {},
     "output_type": "execute_result"
    }
   ],
   "source": [
    "df = preprocess.load_df(DATA_DIR / \"train.csv\")\n",
    "df.head()"
   ]
  },
  {
   "cell_type": "code",
   "execution_count": 5,
   "metadata": {},
   "outputs": [
    {
     "name": "stdout",
     "output_type": "stream",
     "text": [
      "<class 'pandas.core.frame.DataFrame'>\n",
      "RangeIndex: 891 entries, 0 to 890\n",
      "Data columns (total 23 columns):\n",
      " #   Column        Non-Null Count  Dtype  \n",
      "---  ------        --------------  -----  \n",
      " 0   Survived      891 non-null    int64  \n",
      " 1   Pclass        891 non-null    int64  \n",
      " 2   Age           891 non-null    float64\n",
      " 3   SibSp         891 non-null    int64  \n",
      " 4   Parch         891 non-null    int64  \n",
      " 5   Fare          891 non-null    float64\n",
      " 6   IsCabinNA     891 non-null    bool   \n",
      " 7   IsAgeNA       891 non-null    bool   \n",
      " 8   Sex_male      891 non-null    uint8  \n",
      " 9   Embarked_Q    891 non-null    uint8  \n",
      " 10  Embarked_S    891 non-null    uint8  \n",
      " 11  CabinGroup_B  891 non-null    uint8  \n",
      " 12  CabinGroup_C  891 non-null    uint8  \n",
      " 13  CabinGroup_D  891 non-null    uint8  \n",
      " 14  CabinGroup_E  891 non-null    uint8  \n",
      " 15  CabinGroup_F  891 non-null    uint8  \n",
      " 16  CabinGroup_G  891 non-null    uint8  \n",
      " 17  CabinGroup_T  891 non-null    uint8  \n",
      " 18  TicketBase_0  891 non-null    uint8  \n",
      " 19  TicketBase_1  891 non-null    uint8  \n",
      " 20  TicketBase_2  891 non-null    uint8  \n",
      " 21  TicketBase_3  891 non-null    uint8  \n",
      " 22  TicketBase_4  891 non-null    uint8  \n",
      "dtypes: bool(2), float64(2), int64(4), uint8(15)\n",
      "memory usage: 56.7 KB\n"
     ]
    }
   ],
   "source": [
    "df.info()"
   ]
  },
  {
   "cell_type": "code",
   "execution_count": 6,
   "metadata": {},
   "outputs": [],
   "source": [
    "from sklearn.metrics import roc_auc_score, accuracy_score, make_scorer\n",
    "from sklearn.model_selection import train_test_split, GridSearchCV, KFold\n",
    "\n",
    "from sklearn.pipeline import Pipeline\n",
    "from sklearn.preprocessing import StandardScaler\n",
    "\n",
    "from sklearn.linear_model import LogisticRegression\n",
    "from sklearn.ensemble import RandomForestClassifier, GradientBoostingClassifier\n",
    "from xgboost import XGBClassifier"
   ]
  },
  {
   "cell_type": "code",
   "execution_count": 7,
   "metadata": {},
   "outputs": [],
   "source": [
    "models = {}\n",
    "param_grids = {}\n",
    "results = {}"
   ]
  },
  {
   "cell_type": "code",
   "execution_count": 8,
   "metadata": {},
   "outputs": [],
   "source": [
    "auc_scorer = make_scorer(roc_auc_score)"
   ]
  },
  {
   "cell_type": "code",
   "execution_count": 9,
   "metadata": {},
   "outputs": [],
   "source": [
    "X, y = df.drop(\"Survived\",1), df.Survived\n",
    "X_train, X_test, y_train, y_test = train_test_split(X,y)"
   ]
  },
  {
   "cell_type": "code",
   "execution_count": 10,
   "metadata": {},
   "outputs": [],
   "source": [
    "scale = StandardScaler()\n",
    "Xs_train = scale.fit_transform(X_train)\n",
    "Xs_test = scale.fit_transform(X_test)"
   ]
  },
  {
   "cell_type": "markdown",
   "metadata": {},
   "source": [
    "## Model Training – Logistic Regression"
   ]
  },
  {
   "cell_type": "code",
   "execution_count": 11,
   "metadata": {},
   "outputs": [
    {
     "name": "stdout",
     "output_type": "stream",
     "text": [
      "Fitting 5 folds for each of 28 candidates, totalling 140 fits\n"
     ]
    },
    {
     "name": "stderr",
     "output_type": "stream",
     "text": [
      "[Parallel(n_jobs=-1)]: Using backend LokyBackend with 8 concurrent workers.\n",
      "[Parallel(n_jobs=-1)]: Done   2 tasks      | elapsed:    2.4s\n",
      "[Parallel(n_jobs=-1)]: Done  56 tasks      | elapsed:    2.7s\n",
      "[Parallel(n_jobs=-1)]: Done 140 out of 140 | elapsed:    2.9s finished\n"
     ]
    }
   ],
   "source": [
    "param_grids[\"logistic_regression\"] = {\n",
    "    \"penalty\": [\"l1\",\"l2\"],\n",
    "    \"C\": [1e-3,1e-2,1e-1,1e0,1e1,1e2,1e3],\n",
    "    \"class_weight\": [None,\"balanced\"]\n",
    "}\n",
    "models[\"logistic_regression\"] = GridSearchCV(\n",
    "    estimator=LogisticRegression(verbose=0,n_jobs=1),\n",
    "    param_grid=param_grids[\"logistic_regression\"],\n",
    "    verbose=5,\n",
    "    cv=5,\n",
    "    scoring=auc_scorer,\n",
    "    n_jobs=-1\n",
    ")\n",
    "models[\"logistic_regression\"].fit(Xs_train,y_train)\n",
    "results[\"logistic_regression\"] = models['logistic_regression'].best_score_"
   ]
  },
  {
   "cell_type": "markdown",
   "metadata": {},
   "source": [
    "## Model Training – Random Forest"
   ]
  },
  {
   "cell_type": "code",
   "execution_count": 12,
   "metadata": {},
   "outputs": [
    {
     "name": "stdout",
     "output_type": "stream",
     "text": [
      "Fitting 5 folds for each of 2160 candidates, totalling 10800 fits\n"
     ]
    },
    {
     "name": "stderr",
     "output_type": "stream",
     "text": [
      "[Parallel(n_jobs=-1)]: Using backend LokyBackend with 8 concurrent workers.\n",
      "[Parallel(n_jobs=-1)]: Done   2 tasks      | elapsed:    0.2s\n",
      "[Parallel(n_jobs=-1)]: Done  86 tasks      | elapsed:   13.4s\n",
      "[Parallel(n_jobs=-1)]: Done 178 tasks      | elapsed:   28.0s\n",
      "[Parallel(n_jobs=-1)]: Done 304 tasks      | elapsed:   51.1s\n",
      "[Parallel(n_jobs=-1)]: Done 466 tasks      | elapsed:  1.4min\n",
      "[Parallel(n_jobs=-1)]: Done 664 tasks      | elapsed:  2.0min\n",
      "[Parallel(n_jobs=-1)]: Done 898 tasks      | elapsed:  2.8min\n",
      "[Parallel(n_jobs=-1)]: Done 1168 tasks      | elapsed:  3.5min\n",
      "[Parallel(n_jobs=-1)]: Done 1474 tasks      | elapsed:  4.5min\n",
      "[Parallel(n_jobs=-1)]: Done 1816 tasks      | elapsed:  5.5min\n",
      "[Parallel(n_jobs=-1)]: Done 2194 tasks      | elapsed:  6.6min\n",
      "[Parallel(n_jobs=-1)]: Done 2608 tasks      | elapsed:  7.8min\n",
      "[Parallel(n_jobs=-1)]: Done 3058 tasks      | elapsed:  9.1min\n",
      "[Parallel(n_jobs=-1)]: Done 3544 tasks      | elapsed: 10.8min\n",
      "[Parallel(n_jobs=-1)]: Done 4066 tasks      | elapsed: 12.3min\n",
      "[Parallel(n_jobs=-1)]: Done 4624 tasks      | elapsed: 13.9min\n",
      "[Parallel(n_jobs=-1)]: Done 5218 tasks      | elapsed: 15.8min\n",
      "[Parallel(n_jobs=-1)]: Done 5848 tasks      | elapsed: 17.7min\n",
      "[Parallel(n_jobs=-1)]: Done 6514 tasks      | elapsed: 19.6min\n",
      "[Parallel(n_jobs=-1)]: Done 7216 tasks      | elapsed: 22.0min\n",
      "[Parallel(n_jobs=-1)]: Done 7954 tasks      | elapsed: 24.1min\n",
      "[Parallel(n_jobs=-1)]: Done 8728 tasks      | elapsed: 26.5min\n",
      "[Parallel(n_jobs=-1)]: Done 9538 tasks      | elapsed: 29.0min\n",
      "[Parallel(n_jobs=-1)]: Done 10384 tasks      | elapsed: 31.5min\n",
      "[Parallel(n_jobs=-1)]: Done 10800 out of 10800 | elapsed: 32.9min finished\n"
     ]
    }
   ],
   "source": [
    "param_grids[\"random_forest\"] = {\n",
    "    \"n_estimators\": [120,300,500,800,1200],\n",
    "    \"max_depth\": [5,8,15,25,30,None],\n",
    "    \"min_samples_split\": [1,2,5,10,15,100],\n",
    "    \"min_samples_leaf\": [1,2,5,10],\n",
    "    \"max_features\": [\"log2\",\"sqrt\",None],\n",
    "}\n",
    "models[\"random_forest\"] = GridSearchCV(\n",
    "    estimator=RandomForestClassifier(verbose=0,n_jobs=1),\n",
    "    param_grid=param_grids[\"random_forest\"],\n",
    "    verbose=5,\n",
    "    cv=5,\n",
    "    scoring=auc_scorer,\n",
    "    n_jobs=-1\n",
    ")\n",
    "models[\"random_forest\"].fit(X_train,y_train)\n",
    "results[\"random_forest\"] = models['random_forest'].best_score_"
   ]
  },
  {
   "cell_type": "markdown",
   "metadata": {},
   "source": [
    "## Model Training – XGBoost"
   ]
  },
  {
   "cell_type": "code",
   "execution_count": 15,
   "metadata": {},
   "outputs": [
    {
     "name": "stdout",
     "output_type": "stream",
     "text": [
      "Fitting 3 folds for each of 138240 candidates, totalling 414720 fits\n"
     ]
    },
    {
     "name": "stderr",
     "output_type": "stream",
     "text": [
      "[Parallel(n_jobs=-1)]: Using backend LokyBackend with 8 concurrent workers.\n",
      "[Parallel(n_jobs=-1)]: Done   2 tasks      | elapsed:    3.2s\n",
      "[Parallel(n_jobs=-1)]: Done  56 tasks      | elapsed:    4.1s\n",
      "[Parallel(n_jobs=-1)]: Done 146 tasks      | elapsed:    6.1s\n",
      "[Parallel(n_jobs=-1)]: Done 272 tasks      | elapsed:    8.5s\n",
      "[Parallel(n_jobs=-1)]: Done 434 tasks      | elapsed:   11.9s\n",
      "[Parallel(n_jobs=-1)]: Done 776 tasks      | elapsed:   18.1s\n",
      "[Parallel(n_jobs=-1)]: Done 1244 tasks      | elapsed:   27.3s\n",
      "[Parallel(n_jobs=-1)]: Done 1784 tasks      | elapsed:   39.4s\n",
      "[Parallel(n_jobs=-1)]: Done 2396 tasks      | elapsed:   54.4s\n",
      "[Parallel(n_jobs=-1)]: Done 3080 tasks      | elapsed:  1.2min\n",
      "[Parallel(n_jobs=-1)]: Done 3836 tasks      | elapsed:  1.5min\n",
      "[Parallel(n_jobs=-1)]: Done 4536 tasks      | elapsed:  1.8min\n",
      "[Parallel(n_jobs=-1)]: Done 5172 tasks      | elapsed:  2.0min\n",
      "[Parallel(n_jobs=-1)]: Done 6144 tasks      | elapsed:  2.4min\n",
      "[Parallel(n_jobs=-1)]: Done 7188 tasks      | elapsed:  2.7min\n",
      "[Parallel(n_jobs=-1)]: Done 8304 tasks      | elapsed:  3.1min\n",
      "[Parallel(n_jobs=-1)]: Done 9492 tasks      | elapsed:  3.5min\n",
      "[Parallel(n_jobs=-1)]: Done 10752 tasks      | elapsed:  3.9min\n",
      "[Parallel(n_jobs=-1)]: Done 12084 tasks      | elapsed:  4.4min\n",
      "[Parallel(n_jobs=-1)]: Done 13488 tasks      | elapsed:  4.8min\n",
      "[Parallel(n_jobs=-1)]: Done 14964 tasks      | elapsed:  5.3min\n",
      "[Parallel(n_jobs=-1)]: Done 16512 tasks      | elapsed:  5.8min\n",
      "[Parallel(n_jobs=-1)]: Done 18132 tasks      | elapsed:  6.3min\n",
      "[Parallel(n_jobs=-1)]: Done 19816 tasks      | elapsed:  7.0min\n",
      "[Parallel(n_jobs=-1)]: Done 20698 tasks      | elapsed:  7.5min\n",
      "[Parallel(n_jobs=-1)]: Done 21800 tasks      | elapsed:  7.8min\n",
      "[Parallel(n_jobs=-1)]: Done 23708 tasks      | elapsed:  8.5min\n",
      "[Parallel(n_jobs=-1)]: Done 25688 tasks      | elapsed:  9.1min\n",
      "[Parallel(n_jobs=-1)]: Done 27740 tasks      | elapsed:  9.8min\n",
      "[Parallel(n_jobs=-1)]: Done 29864 tasks      | elapsed: 10.5min\n",
      "[Parallel(n_jobs=-1)]: Done 32060 tasks      | elapsed: 11.1min\n",
      "[Parallel(n_jobs=-1)]: Done 34328 tasks      | elapsed: 11.9min\n",
      "[Parallel(n_jobs=-1)]: Done 36668 tasks      | elapsed: 12.8min\n",
      "[Parallel(n_jobs=-1)]: Done 39080 tasks      | elapsed: 13.7min\n",
      "[Parallel(n_jobs=-1)]: Done 41564 tasks      | elapsed: 14.7min\n",
      "[Parallel(n_jobs=-1)]: Done 44120 tasks      | elapsed: 15.6min\n",
      "[Parallel(n_jobs=-1)]: Done 46130 tasks      | elapsed: 16.4min\n",
      "[Parallel(n_jobs=-1)]: Done 47480 tasks      | elapsed: 16.9min\n",
      "[Parallel(n_jobs=-1)]: Done 48866 tasks      | elapsed: 17.4min\n",
      "[Parallel(n_jobs=-1)]: Done 50288 tasks      | elapsed: 17.9min\n",
      "[Parallel(n_jobs=-1)]: Done 52244 tasks      | elapsed: 18.6min\n",
      "[Parallel(n_jobs=-1)]: Done 55232 tasks      | elapsed: 19.6min\n",
      "[Parallel(n_jobs=-1)]: Done 58292 tasks      | elapsed: 20.6min\n",
      "[Parallel(n_jobs=-1)]: Done 61424 tasks      | elapsed: 21.7min\n",
      "[Parallel(n_jobs=-1)]: Done 64628 tasks      | elapsed: 22.7min\n",
      "[Parallel(n_jobs=-1)]: Done 67904 tasks      | elapsed: 23.6min\n",
      "[Parallel(n_jobs=-1)]: Done 71252 tasks      | elapsed: 24.8min\n",
      "[Parallel(n_jobs=-1)]: Done 74672 tasks      | elapsed: 26.4min\n",
      "[Parallel(n_jobs=-1)]: Done 78164 tasks      | elapsed: 27.7min\n",
      "[Parallel(n_jobs=-1)]: Done 81728 tasks      | elapsed: 29.0min\n",
      "[Parallel(n_jobs=-1)]: Done 85364 tasks      | elapsed: 30.4min\n",
      "[Parallel(n_jobs=-1)]: Done 89072 tasks      | elapsed: 31.8min\n",
      "[Parallel(n_jobs=-1)]: Done 92852 tasks      | elapsed: 33.1min\n",
      "[Parallel(n_jobs=-1)]: Done 96704 tasks      | elapsed: 34.5min\n",
      "[Parallel(n_jobs=-1)]: Done 100628 tasks      | elapsed: 35.7min\n",
      "[Parallel(n_jobs=-1)]: Done 104624 tasks      | elapsed: 37.3min\n",
      "[Parallel(n_jobs=-1)]: Done 108692 tasks      | elapsed: 38.6min\n",
      "[Parallel(n_jobs=-1)]: Done 112832 tasks      | elapsed: 39.8min\n",
      "[Parallel(n_jobs=-1)]: Done 117044 tasks      | elapsed: 41.0min\n",
      "[Parallel(n_jobs=-1)]: Done 121328 tasks      | elapsed: 42.3min\n",
      "[Parallel(n_jobs=-1)]: Done 125684 tasks      | elapsed: 43.5min\n",
      "[Parallel(n_jobs=-1)]: Done 130112 tasks      | elapsed: 44.7min\n",
      "[Parallel(n_jobs=-1)]: Done 134612 tasks      | elapsed: 45.8min\n",
      "[Parallel(n_jobs=-1)]: Done 139184 tasks      | elapsed: 47.1min\n",
      "[Parallel(n_jobs=-1)]: Done 143828 tasks      | elapsed: 48.6min\n",
      "[Parallel(n_jobs=-1)]: Done 148544 tasks      | elapsed: 50.1min\n",
      "[Parallel(n_jobs=-1)]: Done 153332 tasks      | elapsed: 51.7min\n",
      "[Parallel(n_jobs=-1)]: Done 158192 tasks      | elapsed: 53.2min\n",
      "[Parallel(n_jobs=-1)]: Done 163124 tasks      | elapsed: 54.6min\n",
      "[Parallel(n_jobs=-1)]: Done 168128 tasks      | elapsed: 56.1min\n",
      "[Parallel(n_jobs=-1)]: Done 173204 tasks      | elapsed: 57.5min\n",
      "[Parallel(n_jobs=-1)]: Done 178352 tasks      | elapsed: 59.4min\n",
      "[Parallel(n_jobs=-1)]: Done 183572 tasks      | elapsed: 61.3min\n",
      "[Parallel(n_jobs=-1)]: Done 188864 tasks      | elapsed: 63.1min\n",
      "[Parallel(n_jobs=-1)]: Done 193010 tasks      | elapsed: 64.6min\n",
      "[Parallel(n_jobs=-1)]: Done 195728 tasks      | elapsed: 65.7min\n",
      "[Parallel(n_jobs=-1)]: Done 198482 tasks      | elapsed: 66.7min\n",
      "[Parallel(n_jobs=-1)]: Done 201272 tasks      | elapsed: 67.7min\n",
      "[Parallel(n_jobs=-1)]: Done 204098 tasks      | elapsed: 68.6min\n",
      "[Parallel(n_jobs=-1)]: Done 206960 tasks      | elapsed: 69.5min\n",
      "[Parallel(n_jobs=-1)]: Done 212308 tasks      | elapsed: 71.0min\n",
      "[Parallel(n_jobs=-1)]: Done 218176 tasks      | elapsed: 72.7min\n",
      "[Parallel(n_jobs=-1)]: Done 224116 tasks      | elapsed: 74.3min\n",
      "[Parallel(n_jobs=-1)]: Done 230128 tasks      | elapsed: 75.8min\n",
      "[Parallel(n_jobs=-1)]: Done 236212 tasks      | elapsed: 77.4min\n",
      "[Parallel(n_jobs=-1)]: Done 242368 tasks      | elapsed: 79.0min\n",
      "[Parallel(n_jobs=-1)]: Done 248596 tasks      | elapsed: 80.8min\n",
      "[Parallel(n_jobs=-1)]: Done 254896 tasks      | elapsed: 82.8min\n",
      "[Parallel(n_jobs=-1)]: Done 261268 tasks      | elapsed: 84.7min\n",
      "[Parallel(n_jobs=-1)]: Done 267712 tasks      | elapsed: 86.5min\n",
      "[Parallel(n_jobs=-1)]: Done 274228 tasks      | elapsed: 88.4min\n",
      "[Parallel(n_jobs=-1)]: Done 280816 tasks      | elapsed: 90.4min\n",
      "[Parallel(n_jobs=-1)]: Done 285370 tasks      | elapsed: 92.0min\n",
      "[Parallel(n_jobs=-1)]: Done 288736 tasks      | elapsed: 93.2min\n",
      "[Parallel(n_jobs=-1)]: Done 292138 tasks      | elapsed: 94.4min\n",
      "[Parallel(n_jobs=-1)]: Done 295576 tasks      | elapsed: 95.5min\n",
      "[Parallel(n_jobs=-1)]: Done 299050 tasks      | elapsed: 96.7min\n",
      "[Parallel(n_jobs=-1)]: Done 302560 tasks      | elapsed: 97.8min\n",
      "[Parallel(n_jobs=-1)]: Done 306106 tasks      | elapsed: 99.3min\n",
      "[Parallel(n_jobs=-1)]: Done 309688 tasks      | elapsed: 101.0min\n",
      "[Parallel(n_jobs=-1)]: Done 313306 tasks      | elapsed: 102.5min\n",
      "[Parallel(n_jobs=-1)]: Done 316960 tasks      | elapsed: 103.7min\n",
      "[Parallel(n_jobs=-1)]: Done 320650 tasks      | elapsed: 105.0min\n",
      "[Parallel(n_jobs=-1)]: Done 324376 tasks      | elapsed: 106.9min\n",
      "[Parallel(n_jobs=-1)]: Done 328138 tasks      | elapsed: 108.2min\n",
      "[Parallel(n_jobs=-1)]: Done 331936 tasks      | elapsed: 109.7min\n",
      "[Parallel(n_jobs=-1)]: Done 335770 tasks      | elapsed: 112.1min\n",
      "[Parallel(n_jobs=-1)]: Done 339640 tasks      | elapsed: 113.4min\n",
      "[Parallel(n_jobs=-1)]: Done 343546 tasks      | elapsed: 115.3min\n",
      "[Parallel(n_jobs=-1)]: Done 347488 tasks      | elapsed: 117.5min\n",
      "[Parallel(n_jobs=-1)]: Done 351466 tasks      | elapsed: 119.3min\n",
      "[Parallel(n_jobs=-1)]: Done 355480 tasks      | elapsed: 121.3min\n",
      "[Parallel(n_jobs=-1)]: Done 359530 tasks      | elapsed: 123.2min\n",
      "[Parallel(n_jobs=-1)]: Done 363616 tasks      | elapsed: 125.1min\n",
      "[Parallel(n_jobs=-1)]: Done 367738 tasks      | elapsed: 126.5min\n",
      "[Parallel(n_jobs=-1)]: Done 371896 tasks      | elapsed: 129.1min\n",
      "[Parallel(n_jobs=-1)]: Done 376090 tasks      | elapsed: 130.6min\n",
      "[Parallel(n_jobs=-1)]: Done 380320 tasks      | elapsed: 132.2min\n",
      "[Parallel(n_jobs=-1)]: Done 384586 tasks      | elapsed: 133.8min\n",
      "[Parallel(n_jobs=-1)]: Done 388888 tasks      | elapsed: 136.1min\n",
      "[Parallel(n_jobs=-1)]: Done 393226 tasks      | elapsed: 138.5min\n",
      "[Parallel(n_jobs=-1)]: Done 397600 tasks      | elapsed: 140.8min\n",
      "[Parallel(n_jobs=-1)]: Done 402010 tasks      | elapsed: 143.0min\n",
      "[Parallel(n_jobs=-1)]: Done 406456 tasks      | elapsed: 145.2min\n",
      "[Parallel(n_jobs=-1)]: Done 410938 tasks      | elapsed: 147.8min\n",
      "[Parallel(n_jobs=-1)]: Done 414720 out of 414720 | elapsed: 149.9min finished\n",
      "/Users/austinpoor/anaconda3/lib/python3.8/site-packages/xgboost/sklearn.py:888: UserWarning: The use of label encoder in XGBClassifier is deprecated and will be removed in a future release. To remove this warning, do the following: 1) Pass option use_label_encoder=False when constructing XGBClassifier object; and 2) Encode your labels (y) as integers starting with 0, i.e. 0, 1, 2, ..., [num_class - 1].\n",
      "  warnings.warn(label_encoder_deprecation_msg, UserWarning)\n"
     ]
    },
    {
     "name": "stdout",
     "output_type": "stream",
     "text": [
      "[18:49:27] WARNING: /Users/travis/build/dmlc/xgboost/src/learner.cc:541: \n",
      "Parameters: { verbose } might not be used.\n",
      "\n",
      "  This may not be accurate due to some parameters are only used in language bindings but\n",
      "  passed down to XGBoost core.  Or some parameters are not used but slip through this\n",
      "  verification. Please open an issue if you find above cases.\n",
      "\n",
      "\n",
      "[18:49:27] WARNING: /Users/travis/build/dmlc/xgboost/src/learner.cc:1061: Starting in XGBoost 1.3.0, the default evaluation metric used with the objective 'binary:logistic' was changed from 'error' to 'logloss'. Explicitly set eval_metric if you'd like to restore the old behavior.\n"
     ]
    }
   ],
   "source": [
    "param_grids[\"xgboost\"] = {\n",
    "    \"eta\": [.01,.05,.1,.2,.3],\n",
    "    \"gamma\": [.05,.075,.1,.3,.5,.7,.9,1.],\n",
    "    \"max_depth\": [3,5,9,12,15,20],\n",
    "    \"min_child_weight\": [1,3,5,7],\n",
    "    \"subsample\": [.6,.8,1.],\n",
    "    \"colsample_bytree\": [.6,.8,1.],\n",
    "    \"lambda\": [.01,.05,.1,1.],\n",
    "    \"alpha\": [0,.1,.5,1.],\n",
    "}\n",
    "models[\"xgboost\"] = GridSearchCV(\n",
    "    estimator=XGBClassifier(verbose=0,n_jobs=1),\n",
    "    param_grid=param_grids[\"xgboost\"],\n",
    "    verbose=5,\n",
    "    cv=3,\n",
    "    scoring=auc_scorer,\n",
    "    n_jobs=-1\n",
    ")\n",
    "models[\"xgboost\"].fit(X_train,y_train)\n",
    "results[\"xgboost\"] = models['xgboost'].best_score_"
   ]
  },
  {
   "cell_type": "markdown",
   "metadata": {},
   "source": [
    "## Model Training Results"
   ]
  },
  {
   "cell_type": "code",
   "execution_count": 17,
   "metadata": {},
   "outputs": [
    {
     "name": "stdout",
     "output_type": "stream",
     "text": [
      " logistic_regression %> 0.7947\n",
      "       random_forest %> 0.8238\n",
      "             xgboost %> 0.8240\n"
     ]
    }
   ],
   "source": [
    "for model_name, best_score in results.items():\n",
    "    print(f'{model_name:>20s} %> {best_score:.4f}')"
   ]
  },
  {
   "cell_type": "code",
   "execution_count": null,
   "metadata": {},
   "outputs": [],
   "source": []
  },
  {
   "cell_type": "code",
   "execution_count": null,
   "metadata": {},
   "outputs": [],
   "source": []
  },
  {
   "cell_type": "code",
   "execution_count": null,
   "metadata": {},
   "outputs": [],
   "source": []
  }
 ],
 "metadata": {
  "kernelspec": {
   "display_name": "Python 3",
   "language": "python",
   "name": "python3"
  },
  "language_info": {
   "codemirror_mode": {
    "name": "ipython",
    "version": 3
   },
   "file_extension": ".py",
   "mimetype": "text/x-python",
   "name": "python",
   "nbconvert_exporter": "python",
   "pygments_lexer": "ipython3",
   "version": "3.8.3"
  }
 },
 "nbformat": 4,
 "nbformat_minor": 4
}
