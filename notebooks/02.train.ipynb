{
 "cells": [
  {
   "cell_type": "markdown",
   "metadata": {},
   "source": [
    "# Kaggle Titanic Dataset Challenge – Train\n",
    "\n",
    "_created by Austin Poor_"
   ]
  },
  {
   "cell_type": "code",
   "execution_count": 1,
   "metadata": {},
   "outputs": [],
   "source": [
    "import numpy as np\n",
    "import pandas as pd\n",
    "import matplotlib.pyplot as plt\n",
    "%matplotlib inline\n",
    "import seaborn as sns\n",
    "sns.set()"
   ]
  },
  {
   "cell_type": "code",
   "execution_count": 2,
   "metadata": {},
   "outputs": [
    {
     "data": {
      "text/plain": [
       "[PosixPath('../data/test.csv'),\n",
       " PosixPath('../data/train.csv'),\n",
       " PosixPath('../data/.ipynb_checkpoints'),\n",
       " PosixPath('../data/gender_submission.csv'),\n",
       " PosixPath('../data/.gitinclude')]"
      ]
     },
     "execution_count": 2,
     "metadata": {},
     "output_type": "execute_result"
    }
   ],
   "source": [
    "import sys\n",
    "from pathlib import Path\n",
    "\n",
    "WORK_DIR = Path(\"..\")\n",
    "SCRIPT_DIR = WORK_DIR / \"scripts\"\n",
    "DATA_DIR = WORK_DIR / \"data\"\n",
    "MODEL_DIR = WORK_DIR / \"models\"\n",
    "\n",
    "# Add the script directory to python's path\n",
    "# so I can import code from `scripts/`\n",
    "sys.path.append(str(SCRIPT_DIR.resolve()))\n",
    "\n",
    "list(DATA_DIR.glob(\"*\"))"
   ]
  },
  {
   "cell_type": "code",
   "execution_count": 3,
   "metadata": {},
   "outputs": [],
   "source": [
    "import preprocess"
   ]
  },
  {
   "cell_type": "code",
   "execution_count": 4,
   "metadata": {},
   "outputs": [
    {
     "data": {
      "text/html": [
       "<div>\n",
       "<style scoped>\n",
       "    .dataframe tbody tr th:only-of-type {\n",
       "        vertical-align: middle;\n",
       "    }\n",
       "\n",
       "    .dataframe tbody tr th {\n",
       "        vertical-align: top;\n",
       "    }\n",
       "\n",
       "    .dataframe thead th {\n",
       "        text-align: right;\n",
       "    }\n",
       "</style>\n",
       "<table border=\"1\" class=\"dataframe\">\n",
       "  <thead>\n",
       "    <tr style=\"text-align: right;\">\n",
       "      <th></th>\n",
       "      <th>Survived</th>\n",
       "      <th>Pclass</th>\n",
       "      <th>Age</th>\n",
       "      <th>SibSp</th>\n",
       "      <th>Parch</th>\n",
       "      <th>Fare</th>\n",
       "      <th>IsCabinNA</th>\n",
       "      <th>IsAgeNA</th>\n",
       "      <th>Sex_male</th>\n",
       "      <th>Embarked_Q</th>\n",
       "      <th>...</th>\n",
       "      <th>CabinGroup_D</th>\n",
       "      <th>CabinGroup_E</th>\n",
       "      <th>CabinGroup_F</th>\n",
       "      <th>CabinGroup_G</th>\n",
       "      <th>CabinGroup_T</th>\n",
       "      <th>TicketBase_0</th>\n",
       "      <th>TicketBase_1</th>\n",
       "      <th>TicketBase_2</th>\n",
       "      <th>TicketBase_3</th>\n",
       "      <th>TicketBase_4</th>\n",
       "    </tr>\n",
       "  </thead>\n",
       "  <tbody>\n",
       "    <tr>\n",
       "      <th>0</th>\n",
       "      <td>0</td>\n",
       "      <td>3</td>\n",
       "      <td>22.0</td>\n",
       "      <td>1</td>\n",
       "      <td>0</td>\n",
       "      <td>7.2500</td>\n",
       "      <td>True</td>\n",
       "      <td>False</td>\n",
       "      <td>1</td>\n",
       "      <td>0</td>\n",
       "      <td>...</td>\n",
       "      <td>0</td>\n",
       "      <td>0</td>\n",
       "      <td>0</td>\n",
       "      <td>0</td>\n",
       "      <td>0</td>\n",
       "      <td>0</td>\n",
       "      <td>0</td>\n",
       "      <td>0</td>\n",
       "      <td>1</td>\n",
       "      <td>0</td>\n",
       "    </tr>\n",
       "    <tr>\n",
       "      <th>1</th>\n",
       "      <td>1</td>\n",
       "      <td>1</td>\n",
       "      <td>38.0</td>\n",
       "      <td>1</td>\n",
       "      <td>0</td>\n",
       "      <td>71.2833</td>\n",
       "      <td>False</td>\n",
       "      <td>False</td>\n",
       "      <td>0</td>\n",
       "      <td>0</td>\n",
       "      <td>...</td>\n",
       "      <td>0</td>\n",
       "      <td>0</td>\n",
       "      <td>0</td>\n",
       "      <td>0</td>\n",
       "      <td>0</td>\n",
       "      <td>0</td>\n",
       "      <td>1</td>\n",
       "      <td>0</td>\n",
       "      <td>0</td>\n",
       "      <td>0</td>\n",
       "    </tr>\n",
       "    <tr>\n",
       "      <th>2</th>\n",
       "      <td>1</td>\n",
       "      <td>3</td>\n",
       "      <td>26.0</td>\n",
       "      <td>0</td>\n",
       "      <td>0</td>\n",
       "      <td>7.9250</td>\n",
       "      <td>True</td>\n",
       "      <td>False</td>\n",
       "      <td>0</td>\n",
       "      <td>0</td>\n",
       "      <td>...</td>\n",
       "      <td>0</td>\n",
       "      <td>0</td>\n",
       "      <td>0</td>\n",
       "      <td>0</td>\n",
       "      <td>0</td>\n",
       "      <td>0</td>\n",
       "      <td>0</td>\n",
       "      <td>0</td>\n",
       "      <td>0</td>\n",
       "      <td>1</td>\n",
       "    </tr>\n",
       "    <tr>\n",
       "      <th>3</th>\n",
       "      <td>1</td>\n",
       "      <td>1</td>\n",
       "      <td>35.0</td>\n",
       "      <td>1</td>\n",
       "      <td>0</td>\n",
       "      <td>53.1000</td>\n",
       "      <td>False</td>\n",
       "      <td>False</td>\n",
       "      <td>0</td>\n",
       "      <td>0</td>\n",
       "      <td>...</td>\n",
       "      <td>0</td>\n",
       "      <td>0</td>\n",
       "      <td>0</td>\n",
       "      <td>0</td>\n",
       "      <td>0</td>\n",
       "      <td>1</td>\n",
       "      <td>0</td>\n",
       "      <td>0</td>\n",
       "      <td>0</td>\n",
       "      <td>0</td>\n",
       "    </tr>\n",
       "    <tr>\n",
       "      <th>4</th>\n",
       "      <td>0</td>\n",
       "      <td>3</td>\n",
       "      <td>35.0</td>\n",
       "      <td>0</td>\n",
       "      <td>0</td>\n",
       "      <td>8.0500</td>\n",
       "      <td>True</td>\n",
       "      <td>False</td>\n",
       "      <td>1</td>\n",
       "      <td>0</td>\n",
       "      <td>...</td>\n",
       "      <td>0</td>\n",
       "      <td>0</td>\n",
       "      <td>0</td>\n",
       "      <td>0</td>\n",
       "      <td>0</td>\n",
       "      <td>1</td>\n",
       "      <td>0</td>\n",
       "      <td>0</td>\n",
       "      <td>0</td>\n",
       "      <td>0</td>\n",
       "    </tr>\n",
       "  </tbody>\n",
       "</table>\n",
       "<p>5 rows × 23 columns</p>\n",
       "</div>"
      ],
      "text/plain": [
       "   Survived  Pclass   Age  SibSp  Parch     Fare  IsCabinNA  IsAgeNA  \\\n",
       "0         0       3  22.0      1      0   7.2500       True    False   \n",
       "1         1       1  38.0      1      0  71.2833      False    False   \n",
       "2         1       3  26.0      0      0   7.9250       True    False   \n",
       "3         1       1  35.0      1      0  53.1000      False    False   \n",
       "4         0       3  35.0      0      0   8.0500       True    False   \n",
       "\n",
       "   Sex_male  Embarked_Q  ...  CabinGroup_D  CabinGroup_E  CabinGroup_F  \\\n",
       "0         1           0  ...             0             0             0   \n",
       "1         0           0  ...             0             0             0   \n",
       "2         0           0  ...             0             0             0   \n",
       "3         0           0  ...             0             0             0   \n",
       "4         1           0  ...             0             0             0   \n",
       "\n",
       "   CabinGroup_G  CabinGroup_T  TicketBase_0  TicketBase_1  TicketBase_2  \\\n",
       "0             0             0             0             0             0   \n",
       "1             0             0             0             1             0   \n",
       "2             0             0             0             0             0   \n",
       "3             0             0             1             0             0   \n",
       "4             0             0             1             0             0   \n",
       "\n",
       "   TicketBase_3  TicketBase_4  \n",
       "0             1             0  \n",
       "1             0             0  \n",
       "2             0             1  \n",
       "3             0             0  \n",
       "4             0             0  \n",
       "\n",
       "[5 rows x 23 columns]"
      ]
     },
     "execution_count": 4,
     "metadata": {},
     "output_type": "execute_result"
    }
   ],
   "source": [
    "df = preprocess.load_df(DATA_DIR / \"train.csv\")\n",
    "df.head()"
   ]
  },
  {
   "cell_type": "code",
   "execution_count": 5,
   "metadata": {},
   "outputs": [
    {
     "name": "stdout",
     "output_type": "stream",
     "text": [
      "<class 'pandas.core.frame.DataFrame'>\n",
      "RangeIndex: 891 entries, 0 to 890\n",
      "Data columns (total 23 columns):\n",
      " #   Column        Non-Null Count  Dtype  \n",
      "---  ------        --------------  -----  \n",
      " 0   Survived      891 non-null    int64  \n",
      " 1   Pclass        891 non-null    int64  \n",
      " 2   Age           891 non-null    float64\n",
      " 3   SibSp         891 non-null    int64  \n",
      " 4   Parch         891 non-null    int64  \n",
      " 5   Fare          891 non-null    float64\n",
      " 6   IsCabinNA     891 non-null    bool   \n",
      " 7   IsAgeNA       891 non-null    bool   \n",
      " 8   Sex_male      891 non-null    uint8  \n",
      " 9   Embarked_Q    891 non-null    uint8  \n",
      " 10  Embarked_S    891 non-null    uint8  \n",
      " 11  CabinGroup_B  891 non-null    uint8  \n",
      " 12  CabinGroup_C  891 non-null    uint8  \n",
      " 13  CabinGroup_D  891 non-null    uint8  \n",
      " 14  CabinGroup_E  891 non-null    uint8  \n",
      " 15  CabinGroup_F  891 non-null    uint8  \n",
      " 16  CabinGroup_G  891 non-null    uint8  \n",
      " 17  CabinGroup_T  891 non-null    uint8  \n",
      " 18  TicketBase_0  891 non-null    uint8  \n",
      " 19  TicketBase_1  891 non-null    uint8  \n",
      " 20  TicketBase_2  891 non-null    uint8  \n",
      " 21  TicketBase_3  891 non-null    uint8  \n",
      " 22  TicketBase_4  891 non-null    uint8  \n",
      "dtypes: bool(2), float64(2), int64(4), uint8(15)\n",
      "memory usage: 56.7 KB\n"
     ]
    }
   ],
   "source": [
    "df.info()"
   ]
  },
  {
   "cell_type": "code",
   "execution_count": 6,
   "metadata": {},
   "outputs": [],
   "source": [
    "from sklearn.metrics import roc_auc_score, accuracy_score, make_scorer\n",
    "from sklearn.model_selection import train_test_split, GridSearchCV, KFold\n",
    "\n",
    "from sklearn.pipeline import Pipeline\n",
    "from sklearn.preprocessing import StandardScaler\n",
    "\n",
    "from sklearn.linear_model import LogisticRegression\n",
    "from sklearn.ensemble import RandomForestClassifier, GradientBoostingClassifier\n",
    "from xgboost import XGBClassifier"
   ]
  },
  {
   "cell_type": "code",
   "execution_count": 7,
   "metadata": {},
   "outputs": [],
   "source": [
    "models = {}\n",
    "param_grids = {}\n",
    "results = {}"
   ]
  },
  {
   "cell_type": "code",
   "execution_count": 8,
   "metadata": {},
   "outputs": [],
   "source": [
    "auc_scorer = make_scorer(roc_auc_score)"
   ]
  },
  {
   "cell_type": "code",
   "execution_count": 9,
   "metadata": {},
   "outputs": [],
   "source": [
    "X, y = df.drop(\"Survived\",1), df.Survived\n",
    "X_train, X_test, y_train, y_test = train_test_split(X,y)"
   ]
  },
  {
   "cell_type": "code",
   "execution_count": 10,
   "metadata": {},
   "outputs": [],
   "source": [
    "scale = StandardScaler()\n",
    "Xs_train = scale.fit_transform(X_train)\n",
    "Xs_test = scale.fit_transform(X_test)"
   ]
  },
  {
   "cell_type": "markdown",
   "metadata": {},
   "source": [
    "## Model Training – Logistic Regression"
   ]
  },
  {
   "cell_type": "code",
   "execution_count": 11,
   "metadata": {},
   "outputs": [
    {
     "name": "stdout",
     "output_type": "stream",
     "text": [
      "Fitting 5 folds for each of 28 candidates, totalling 140 fits\n"
     ]
    },
    {
     "name": "stderr",
     "output_type": "stream",
     "text": [
      "[Parallel(n_jobs=-1)]: Using backend LokyBackend with 8 concurrent workers.\n",
      "[Parallel(n_jobs=-1)]: Done   2 tasks      | elapsed:    2.0s\n",
      "[Parallel(n_jobs=-1)]: Done  64 tasks      | elapsed:    2.2s\n",
      "[Parallel(n_jobs=-1)]: Done 140 out of 140 | elapsed:    2.3s finished\n"
     ]
    }
   ],
   "source": [
    "param_grids[\"logistic_regression\"] = {\n",
    "    \"penalty\": [\"l1\",\"l2\"],\n",
    "    \"C\": [1e-3,1e-2,1e-1,1e0,1e1,1e2,1e3],\n",
    "    \"class_weight\": [None,\"balanced\"]\n",
    "}\n",
    "models[\"logistic_regression\"] = GridSearchCV(\n",
    "    estimator=LogisticRegression(verbose=0,n_jobs=1),\n",
    "    param_grid=param_grids[\"logistic_regression\"],\n",
    "    verbose=5,\n",
    "    cv=5,\n",
    "    scoring=auc_scorer,\n",
    "    n_jobs=-1\n",
    ")\n",
    "models[\"logistic_regression\"].fit(Xs_train,y_train)\n",
    "results[\"logistic_regression\"] = models['logistic_regression'].best_score_"
   ]
  },
  {
   "cell_type": "markdown",
   "metadata": {},
   "source": [
    "## Model Training – Random Forest"
   ]
  },
  {
   "cell_type": "code",
   "execution_count": 12,
   "metadata": {},
   "outputs": [
    {
     "name": "stderr",
     "output_type": "stream",
     "text": [
      "[Parallel(n_jobs=-1)]: Using backend LokyBackend with 8 concurrent workers.\n"
     ]
    },
    {
     "name": "stdout",
     "output_type": "stream",
     "text": [
      "Fitting 5 folds for each of 2160 candidates, totalling 10800 fits\n"
     ]
    },
    {
     "name": "stderr",
     "output_type": "stream",
     "text": [
      "[Parallel(n_jobs=-1)]: Done   2 tasks      | elapsed:    0.2s\n",
      "[Parallel(n_jobs=-1)]: Done  86 tasks      | elapsed:   12.2s\n",
      "[Parallel(n_jobs=-1)]: Done 178 tasks      | elapsed:   26.1s\n",
      "[Parallel(n_jobs=-1)]: Done 304 tasks      | elapsed:   49.0s\n",
      "[Parallel(n_jobs=-1)]: Done 466 tasks      | elapsed:  1.3min\n",
      "[Parallel(n_jobs=-1)]: Done 664 tasks      | elapsed:  1.8min\n",
      "[Parallel(n_jobs=-1)]: Done 898 tasks      | elapsed:  2.5min\n",
      "[Parallel(n_jobs=-1)]: Done 1168 tasks      | elapsed:  3.2min\n",
      "[Parallel(n_jobs=-1)]: Done 1474 tasks      | elapsed:  4.2min\n",
      "[Parallel(n_jobs=-1)]: Done 1816 tasks      | elapsed:  5.2min\n",
      "[Parallel(n_jobs=-1)]: Done 2194 tasks      | elapsed:  6.3min\n",
      "[Parallel(n_jobs=-1)]: Done 2608 tasks      | elapsed:  7.4min\n",
      "[Parallel(n_jobs=-1)]: Done 3058 tasks      | elapsed:  8.7min\n",
      "[Parallel(n_jobs=-1)]: Done 3544 tasks      | elapsed: 10.3min\n",
      "[Parallel(n_jobs=-1)]: Done 4066 tasks      | elapsed: 11.8min\n",
      "[Parallel(n_jobs=-1)]: Done 4624 tasks      | elapsed: 13.4min\n",
      "[Parallel(n_jobs=-1)]: Done 5218 tasks      | elapsed: 15.3min\n",
      "[Parallel(n_jobs=-1)]: Done 5848 tasks      | elapsed: 17.2min\n",
      "[Parallel(n_jobs=-1)]: Done 6514 tasks      | elapsed: 19.0min\n",
      "[Parallel(n_jobs=-1)]: Done 7216 tasks      | elapsed: 21.4min\n",
      "[Parallel(n_jobs=-1)]: Done 7954 tasks      | elapsed: 23.5min\n",
      "[Parallel(n_jobs=-1)]: Done 8728 tasks      | elapsed: 25.8min\n",
      "[Parallel(n_jobs=-1)]: Done 9538 tasks      | elapsed: 28.2min\n",
      "[Parallel(n_jobs=-1)]: Done 10384 tasks      | elapsed: 30.7min\n",
      "[Parallel(n_jobs=-1)]: Done 10800 out of 10800 | elapsed: 32.2min finished\n"
     ]
    }
   ],
   "source": [
    "param_grids[\"random_forest\"] = {\n",
    "    \"n_estimators\": [120,300,500,800,1200],\n",
    "    \"max_depth\": [5,8,15,25,30,None],\n",
    "    \"min_samples_split\": [1,2,5,10,15,100],\n",
    "    \"min_samples_leaf\": [1,2,5,10],\n",
    "    \"max_features\": [\"log2\",\"sqrt\",None],\n",
    "}\n",
    "models[\"random_forest\"] = GridSearchCV(\n",
    "    estimator=RandomForestClassifier(verbose=0,n_jobs=1),\n",
    "    param_grid=param_grids[\"random_forest\"],\n",
    "    verbose=5,\n",
    "    cv=5,\n",
    "    scoring=auc_scorer,\n",
    "    n_jobs=-1\n",
    ")\n",
    "models[\"random_forest\"].fit(X_train,y_train)\n",
    "results[\"random_forest\"] = models['random_forest'].best_score_"
   ]
  },
  {
   "cell_type": "markdown",
   "metadata": {},
   "source": [
    "## Model Training – XGBoost"
   ]
  },
  {
   "cell_type": "code",
   "execution_count": 13,
   "metadata": {},
   "outputs": [
    {
     "name": "stdout",
     "output_type": "stream",
     "text": [
      "Fitting 3 folds for each of 138240 candidates, totalling 414720 fits\n"
     ]
    },
    {
     "name": "stderr",
     "output_type": "stream",
     "text": [
      "[Parallel(n_jobs=-1)]: Using backend LokyBackend with 8 concurrent workers.\n",
      "[Parallel(n_jobs=-1)]: Done   2 tasks      | elapsed:    0.4s\n",
      "[Parallel(n_jobs=-1)]: Done  56 tasks      | elapsed:    1.2s\n",
      "[Parallel(n_jobs=-1)]: Done 146 tasks      | elapsed:    3.3s\n",
      "[Parallel(n_jobs=-1)]: Done 272 tasks      | elapsed:    5.7s\n",
      "[Parallel(n_jobs=-1)]: Done 434 tasks      | elapsed:    9.1s\n",
      "[Parallel(n_jobs=-1)]: Done 632 tasks      | elapsed:   12.9s\n",
      "[Parallel(n_jobs=-1)]: Done 1036 tasks      | elapsed:   20.2s\n",
      "[Parallel(n_jobs=-1)]: Done 1576 tasks      | elapsed:   30.3s\n",
      "[Parallel(n_jobs=-1)]: Done 2188 tasks      | elapsed:   41.5s\n",
      "[Parallel(n_jobs=-1)]: Done 2872 tasks      | elapsed:   53.9s\n",
      "[Parallel(n_jobs=-1)]: Done 3628 tasks      | elapsed:  1.1min\n",
      "[Parallel(n_jobs=-1)]: Done 4456 tasks      | elapsed:  1.4min\n",
      "[Parallel(n_jobs=-1)]: Done 5356 tasks      | elapsed:  1.7min\n",
      "[Parallel(n_jobs=-1)]: Done 6328 tasks      | elapsed:  2.0min\n",
      "[Parallel(n_jobs=-1)]: Done 7372 tasks      | elapsed:  2.3min\n",
      "[Parallel(n_jobs=-1)]: Done 8488 tasks      | elapsed:  2.6min\n",
      "[Parallel(n_jobs=-1)]: Done 9676 tasks      | elapsed:  3.0min\n",
      "[Parallel(n_jobs=-1)]: Done 10936 tasks      | elapsed:  3.4min\n",
      "[Parallel(n_jobs=-1)]: Done 12268 tasks      | elapsed:  3.8min\n",
      "[Parallel(n_jobs=-1)]: Done 13672 tasks      | elapsed:  4.2min\n",
      "[Parallel(n_jobs=-1)]: Done 15148 tasks      | elapsed:  4.6min\n",
      "[Parallel(n_jobs=-1)]: Done 16696 tasks      | elapsed:  5.0min\n",
      "[Parallel(n_jobs=-1)]: Done 18316 tasks      | elapsed:  5.5min\n",
      "[Parallel(n_jobs=-1)]: Done 20008 tasks      | elapsed:  5.9min\n",
      "[Parallel(n_jobs=-1)]: Done 21772 tasks      | elapsed:  6.4min\n",
      "[Parallel(n_jobs=-1)]: Done 23608 tasks      | elapsed:  6.9min\n",
      "[Parallel(n_jobs=-1)]: Done 25516 tasks      | elapsed:  7.5min\n",
      "[Parallel(n_jobs=-1)]: Done 27496 tasks      | elapsed:  8.0min\n",
      "[Parallel(n_jobs=-1)]: Done 29548 tasks      | elapsed:  8.6min\n",
      "[Parallel(n_jobs=-1)]: Done 31672 tasks      | elapsed:  9.1min\n",
      "[Parallel(n_jobs=-1)]: Done 33868 tasks      | elapsed:  9.7min\n",
      "[Parallel(n_jobs=-1)]: Done 36136 tasks      | elapsed: 10.4min\n",
      "[Parallel(n_jobs=-1)]: Done 38476 tasks      | elapsed: 11.2min\n",
      "[Parallel(n_jobs=-1)]: Done 40552 tasks      | elapsed: 12.0min\n",
      "[Parallel(n_jobs=-1)]: Done 41794 tasks      | elapsed: 12.4min\n",
      "[Parallel(n_jobs=-1)]: Done 43072 tasks      | elapsed: 12.8min\n",
      "[Parallel(n_jobs=-1)]: Done 44386 tasks      | elapsed: 13.3min\n",
      "[Parallel(n_jobs=-1)]: Done 45736 tasks      | elapsed: 13.7min\n",
      "[Parallel(n_jobs=-1)]: Done 47122 tasks      | elapsed: 14.2min\n",
      "[Parallel(n_jobs=-1)]: Done 48544 tasks      | elapsed: 14.7min\n",
      "[Parallel(n_jobs=-1)]: Done 50002 tasks      | elapsed: 15.2min\n",
      "[Parallel(n_jobs=-1)]: Done 51496 tasks      | elapsed: 15.6min\n",
      "[Parallel(n_jobs=-1)]: Done 53026 tasks      | elapsed: 16.1min\n",
      "[Parallel(n_jobs=-1)]: Done 54592 tasks      | elapsed: 16.6min\n",
      "[Parallel(n_jobs=-1)]: Done 56194 tasks      | elapsed: 17.1min\n",
      "[Parallel(n_jobs=-1)]: Done 57832 tasks      | elapsed: 17.7min\n",
      "[Parallel(n_jobs=-1)]: Done 60204 tasks      | elapsed: 18.4min\n",
      "[Parallel(n_jobs=-1)]: Done 63624 tasks      | elapsed: 19.4min\n",
      "[Parallel(n_jobs=-1)]: Done 67116 tasks      | elapsed: 20.4min\n",
      "[Parallel(n_jobs=-1)]: Done 70680 tasks      | elapsed: 21.6min\n",
      "[Parallel(n_jobs=-1)]: Done 74316 tasks      | elapsed: 22.9min\n",
      "[Parallel(n_jobs=-1)]: Done 78024 tasks      | elapsed: 24.3min\n",
      "[Parallel(n_jobs=-1)]: Done 81804 tasks      | elapsed: 25.6min\n",
      "[Parallel(n_jobs=-1)]: Done 85656 tasks      | elapsed: 27.0min\n",
      "[Parallel(n_jobs=-1)]: Done 89580 tasks      | elapsed: 28.4min\n",
      "[Parallel(n_jobs=-1)]: Done 93576 tasks      | elapsed: 29.7min\n",
      "[Parallel(n_jobs=-1)]: Done 95730 tasks      | elapsed: 30.6min\n",
      "[Parallel(n_jobs=-1)]: Done 97800 tasks      | elapsed: 31.4min\n",
      "[Parallel(n_jobs=-1)]: Done 99906 tasks      | elapsed: 32.3min\n",
      "[Parallel(n_jobs=-1)]: Done 102048 tasks      | elapsed: 34.1min\n",
      "[Parallel(n_jobs=-1)]: Done 104226 tasks      | elapsed: 34.9min\n",
      "[Parallel(n_jobs=-1)]: Done 106440 tasks      | elapsed: 36.0min\n",
      "[Parallel(n_jobs=-1)]: Done 108690 tasks      | elapsed: 37.0min\n",
      "[Parallel(n_jobs=-1)]: Done 110976 tasks      | elapsed: 38.0min\n",
      "[Parallel(n_jobs=-1)]: Done 113298 tasks      | elapsed: 38.8min\n",
      "[Parallel(n_jobs=-1)]: Done 115656 tasks      | elapsed: 39.7min\n",
      "[Parallel(n_jobs=-1)]: Done 118050 tasks      | elapsed: 40.6min\n",
      "[Parallel(n_jobs=-1)]: Done 120480 tasks      | elapsed: 41.8min\n",
      "[Parallel(n_jobs=-1)]: Done 122946 tasks      | elapsed: 43.1min\n",
      "[Parallel(n_jobs=-1)]: Done 125448 tasks      | elapsed: 44.4min\n",
      "[Parallel(n_jobs=-1)]: Done 127986 tasks      | elapsed: 45.2min\n",
      "[Parallel(n_jobs=-1)]: Done 130560 tasks      | elapsed: 46.1min\n",
      "[Parallel(n_jobs=-1)]: Done 133170 tasks      | elapsed: 47.1min\n",
      "[Parallel(n_jobs=-1)]: Done 135816 tasks      | elapsed: 48.0min\n",
      "[Parallel(n_jobs=-1)]: Done 138498 tasks      | elapsed: 49.1min\n",
      "[Parallel(n_jobs=-1)]: Done 141216 tasks      | elapsed: 50.5min\n",
      "[Parallel(n_jobs=-1)]: Done 143970 tasks      | elapsed: 52.0min\n",
      "[Parallel(n_jobs=-1)]: Done 146760 tasks      | elapsed: 53.2min\n",
      "[Parallel(n_jobs=-1)]: Done 149586 tasks      | elapsed: 54.4min\n",
      "[Parallel(n_jobs=-1)]: Done 152448 tasks      | elapsed: 55.9min\n",
      "[Parallel(n_jobs=-1)]: Done 155346 tasks      | elapsed: 57.7min\n",
      "[Parallel(n_jobs=-1)]: Done 158280 tasks      | elapsed: 59.4min\n",
      "[Parallel(n_jobs=-1)]: Done 161250 tasks      | elapsed: 60.8min\n",
      "[Parallel(n_jobs=-1)]: Done 164256 tasks      | elapsed: 61.9min\n",
      "[Parallel(n_jobs=-1)]: Done 167298 tasks      | elapsed: 63.1min\n",
      "[Parallel(n_jobs=-1)]: Done 170376 tasks      | elapsed: 64.2min\n",
      "[Parallel(n_jobs=-1)]: Done 173490 tasks      | elapsed: 65.4min\n",
      "[Parallel(n_jobs=-1)]: Done 176640 tasks      | elapsed: 67.3min\n",
      "[Parallel(n_jobs=-1)]: Done 179826 tasks      | elapsed: 68.8min\n",
      "[Parallel(n_jobs=-1)]: Done 183048 tasks      | elapsed: 70.3min\n",
      "[Parallel(n_jobs=-1)]: Done 186306 tasks      | elapsed: 72.1min\n",
      "[Parallel(n_jobs=-1)]: Done 189600 tasks      | elapsed: 74.2min\n",
      "[Parallel(n_jobs=-1)]: Done 192930 tasks      | elapsed: 76.3min\n",
      "[Parallel(n_jobs=-1)]: Done 196296 tasks      | elapsed: 78.1min\n",
      "[Parallel(n_jobs=-1)]: Done 199698 tasks      | elapsed: 79.7min\n",
      "[Parallel(n_jobs=-1)]: Done 203136 tasks      | elapsed: 81.4min\n",
      "[Parallel(n_jobs=-1)]: Done 206610 tasks      | elapsed: 82.7min\n",
      "[Parallel(n_jobs=-1)]: Done 210120 tasks      | elapsed: 84.2min\n",
      "[Parallel(n_jobs=-1)]: Done 213666 tasks      | elapsed: 85.5min\n",
      "[Parallel(n_jobs=-1)]: Done 217248 tasks      | elapsed: 87.1min\n",
      "[Parallel(n_jobs=-1)]: Done 220866 tasks      | elapsed: 89.1min\n",
      "[Parallel(n_jobs=-1)]: Done 224520 tasks      | elapsed: 90.4min\n",
      "[Parallel(n_jobs=-1)]: Done 228210 tasks      | elapsed: 91.6min\n",
      "[Parallel(n_jobs=-1)]: Done 231936 tasks      | elapsed: 92.9min\n",
      "[Parallel(n_jobs=-1)]: Done 235698 tasks      | elapsed: 94.8min\n",
      "[Parallel(n_jobs=-1)]: Done 239496 tasks      | elapsed: 96.1min\n",
      "[Parallel(n_jobs=-1)]: Done 243330 tasks      | elapsed: 97.9min\n",
      "[Parallel(n_jobs=-1)]: Done 247200 tasks      | elapsed: 99.7min\n",
      "[Parallel(n_jobs=-1)]: Done 251106 tasks      | elapsed: 101.9min\n",
      "[Parallel(n_jobs=-1)]: Done 255048 tasks      | elapsed: 104.0min\n",
      "[Parallel(n_jobs=-1)]: Done 259026 tasks      | elapsed: 105.5min\n",
      "[Parallel(n_jobs=-1)]: Done 263040 tasks      | elapsed: 107.0min\n",
      "[Parallel(n_jobs=-1)]: Done 267090 tasks      | elapsed: 108.7min\n",
      "[Parallel(n_jobs=-1)]: Done 271176 tasks      | elapsed: 110.4min\n",
      "[Parallel(n_jobs=-1)]: Done 275298 tasks      | elapsed: 111.9min\n",
      "[Parallel(n_jobs=-1)]: Done 279456 tasks      | elapsed: 113.8min\n",
      "[Parallel(n_jobs=-1)]: Done 283650 tasks      | elapsed: 116.5min\n",
      "[Parallel(n_jobs=-1)]: Done 287880 tasks      | elapsed: 118.4min\n",
      "[Parallel(n_jobs=-1)]: Done 292146 tasks      | elapsed: 121.0min\n",
      "[Parallel(n_jobs=-1)]: Done 296448 tasks      | elapsed: 123.0min\n",
      "[Parallel(n_jobs=-1)]: Done 300786 tasks      | elapsed: 125.0min\n",
      "[Parallel(n_jobs=-1)]: Done 305160 tasks      | elapsed: 127.2min\n",
      "[Parallel(n_jobs=-1)]: Done 309570 tasks      | elapsed: 129.1min\n",
      "[Parallel(n_jobs=-1)]: Done 314016 tasks      | elapsed: 130.9min\n",
      "[Parallel(n_jobs=-1)]: Done 318498 tasks      | elapsed: 132.8min\n",
      "[Parallel(n_jobs=-1)]: Done 323016 tasks      | elapsed: 134.7min\n",
      "[Parallel(n_jobs=-1)]: Done 327570 tasks      | elapsed: 136.4min\n",
      "[Parallel(n_jobs=-1)]: Done 332160 tasks      | elapsed: 138.3min\n",
      "[Parallel(n_jobs=-1)]: Done 336786 tasks      | elapsed: 139.9min\n",
      "[Parallel(n_jobs=-1)]: Done 341448 tasks      | elapsed: 141.8min\n",
      "[Parallel(n_jobs=-1)]: Done 346146 tasks      | elapsed: 143.7min\n",
      "[Parallel(n_jobs=-1)]: Done 350880 tasks      | elapsed: 145.5min\n",
      "[Parallel(n_jobs=-1)]: Done 355650 tasks      | elapsed: 148.2min\n",
      "[Parallel(n_jobs=-1)]: Done 360456 tasks      | elapsed: 150.0min\n",
      "[Parallel(n_jobs=-1)]: Done 365298 tasks      | elapsed: 151.9min\n",
      "[Parallel(n_jobs=-1)]: Done 370176 tasks      | elapsed: 153.9min\n",
      "[Parallel(n_jobs=-1)]: Done 375090 tasks      | elapsed: 156.6min\n",
      "[Parallel(n_jobs=-1)]: Done 380040 tasks      | elapsed: 159.1min\n",
      "[Parallel(n_jobs=-1)]: Done 385026 tasks      | elapsed: 161.8min\n",
      "[Parallel(n_jobs=-1)]: Done 390048 tasks      | elapsed: 163.8min\n",
      "[Parallel(n_jobs=-1)]: Done 395106 tasks      | elapsed: 166.7min\n",
      "[Parallel(n_jobs=-1)]: Done 400200 tasks      | elapsed: 169.0min\n",
      "[Parallel(n_jobs=-1)]: Done 405330 tasks      | elapsed: 171.3min\n",
      "[Parallel(n_jobs=-1)]: Done 410496 tasks      | elapsed: 174.4min\n",
      "[Parallel(n_jobs=-1)]: Done 414720 out of 414720 | elapsed: 176.6min finished\n",
      "/Users/austinpoor/anaconda3/lib/python3.8/site-packages/xgboost/sklearn.py:888: UserWarning: The use of label encoder in XGBClassifier is deprecated and will be removed in a future release. To remove this warning, do the following: 1) Pass option use_label_encoder=False when constructing XGBClassifier object; and 2) Encode your labels (y) as integers starting with 0, i.e. 0, 1, 2, ..., [num_class - 1].\n",
      "  warnings.warn(label_encoder_deprecation_msg, UserWarning)\n"
     ]
    },
    {
     "name": "stdout",
     "output_type": "stream",
     "text": [
      "[22:49:56] WARNING: /Users/travis/build/dmlc/xgboost/src/learner.cc:541: \n",
      "Parameters: { verbose } might not be used.\n",
      "\n",
      "  This may not be accurate due to some parameters are only used in language bindings but\n",
      "  passed down to XGBoost core.  Or some parameters are not used but slip through this\n",
      "  verification. Please open an issue if you find above cases.\n",
      "\n",
      "\n",
      "[22:49:56] WARNING: /Users/travis/build/dmlc/xgboost/src/learner.cc:1061: Starting in XGBoost 1.3.0, the default evaluation metric used with the objective 'binary:logistic' was changed from 'error' to 'logloss'. Explicitly set eval_metric if you'd like to restore the old behavior.\n"
     ]
    }
   ],
   "source": [
    "param_grids[\"xgboost\"] = {\n",
    "    \"eta\": [.01,.05,.1,.2,.3],\n",
    "    \"gamma\": [.05,.075,.1,.3,.5,.7,.9,1.],\n",
    "    \"max_depth\": [3,5,9,12,15,20],\n",
    "    \"min_child_weight\": [1,3,5,7],\n",
    "    \"subsample\": [.6,.8,1.],\n",
    "    \"colsample_bytree\": [.6,.8,1.],\n",
    "    \"lambda\": [.01,.05,.1,1.],\n",
    "    \"alpha\": [0,.1,.5,1.],\n",
    "}\n",
    "models[\"xgboost\"] = GridSearchCV(\n",
    "    estimator=XGBClassifier(verbose=0,n_jobs=1),\n",
    "    param_grid=param_grids[\"xgboost\"],\n",
    "    verbose=5,\n",
    "    cv=3,\n",
    "    scoring=auc_scorer,\n",
    "    n_jobs=-1\n",
    ")\n",
    "models[\"xgboost\"].fit(X_train,y_train)\n",
    "results[\"xgboost\"] = models['xgboost'].best_score_"
   ]
  },
  {
   "cell_type": "markdown",
   "metadata": {},
   "source": [
    "## Model Training Results"
   ]
  },
  {
   "cell_type": "code",
   "execution_count": 14,
   "metadata": {},
   "outputs": [
    {
     "name": "stdout",
     "output_type": "stream",
     "text": [
      " logistic_regression %> 0.7850\n",
      "       random_forest %> 0.8270\n",
      "             xgboost %> 0.8393\n"
     ]
    }
   ],
   "source": [
    "for model_name, best_score in results.items():\n",
    "    print(f'{model_name:>20s} %> {best_score:.4f}')"
   ]
  },
  {
   "cell_type": "markdown",
   "metadata": {},
   "source": [
    "## Model Saving"
   ]
  },
  {
   "cell_type": "code",
   "execution_count": 15,
   "metadata": {},
   "outputs": [
    {
     "data": {
      "text/plain": [
       "0.79"
      ]
     },
     "execution_count": 15,
     "metadata": {},
     "output_type": "execute_result"
    }
   ],
   "source": [
    "round(results[\"logistic_regression\"],2)"
   ]
  },
  {
   "cell_type": "code",
   "execution_count": 16,
   "metadata": {},
   "outputs": [],
   "source": [
    "import joblib\n",
    "from datetime import datetime"
   ]
  },
  {
   "cell_type": "code",
   "execution_count": 17,
   "metadata": {},
   "outputs": [],
   "source": [
    "for model_name, model in models.items():\n",
    "    timestamp = datetime.now().strftime(\"%Y%m%d-%H%M%S\")\n",
    "    auc_val = results.get(model_name)\n",
    "    filename = MODEL_DIR / f\"{model_name}_{timestamp}_auc{auc_val:.02f}.gz\"\n",
    "    with open(filename,\"wb\") as f:\n",
    "        joblib.dump(model.best_estimator_,f)"
   ]
  },
  {
   "cell_type": "code",
   "execution_count": null,
   "metadata": {},
   "outputs": [],
   "source": []
  },
  {
   "cell_type": "code",
   "execution_count": null,
   "metadata": {},
   "outputs": [],
   "source": []
  },
  {
   "cell_type": "code",
   "execution_count": null,
   "metadata": {},
   "outputs": [],
   "source": []
  }
 ],
 "metadata": {
  "kernelspec": {
   "display_name": "Python 3",
   "language": "python",
   "name": "python3"
  },
  "language_info": {
   "codemirror_mode": {
    "name": "ipython",
    "version": 3
   },
   "file_extension": ".py",
   "mimetype": "text/x-python",
   "name": "python",
   "nbconvert_exporter": "python",
   "pygments_lexer": "ipython3",
   "version": "3.8.3"
  }
 },
 "nbformat": 4,
 "nbformat_minor": 4
}
